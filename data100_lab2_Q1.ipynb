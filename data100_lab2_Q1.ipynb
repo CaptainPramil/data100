{
  "nbformat": 4,
  "nbformat_minor": 0,
  "metadata": {
    "colab": {
      "name": "data100_lab2_Q1",
      "provenance": [],
      "authorship_tag": "ABX9TyOh+U2F5GUeuTgFHltY2P53",
      "include_colab_link": true
    },
    "kernelspec": {
      "name": "python3",
      "display_name": "Python 3"
    }
  },
  "cells": [
    {
      "cell_type": "markdown",
      "metadata": {
        "id": "view-in-github",
        "colab_type": "text"
      },
      "source": [
        "<a href=\"https://colab.research.google.com/github/CaptainPramil/data100/blob/main/data100_lab2_Q1.ipynb\" target=\"_parent\"><img src=\"https://colab.research.google.com/assets/colab-badge.svg\" alt=\"Open In Colab\"/></a>"
      ]
    },
    {
      "cell_type": "code",
      "metadata": {
        "id": "L1g-T42MmbMg"
      },
      "source": [
        "import numpy as np\r\n",
        "import matplotlib.pyplot as plt\r\n",
        "import pandas as pd\r\n",
        "import requests\r\n",
        "import zipfile\r\n",
        "from pathlib import Path\r\n",
        "import time"
      ],
      "execution_count": 1,
      "outputs": []
    },
    {
      "cell_type": "code",
      "metadata": {
        "id": "L1WIY9E_oJlE"
      },
      "source": [
        "def fetch_and_cache(data_url, file, data_dir=\"data\", force=False):\r\n",
        "    \r\n",
        "    data_dir = Path(data_dir)\r\n",
        "    data_dir.mkdir(exist_ok=True)\r\n",
        "    file_path = data_dir/Path(file)\r\n",
        "    \r\n",
        "    if force and file_path.exists():\r\n",
        "        file_path.unlink()\r\n",
        "    \r\n",
        "    if force or not file_path.exists():\r\n",
        "        print('Downloading...', end=' ')\r\n",
        "        resp = requests.get(data_url)\r\n",
        "        with file_path.open('wb') as f:\r\n",
        "            f.write(resp.content)\r\n",
        "        print('Done!')\r\n",
        "    \r\n",
        "    else:\r\n",
        "        created = time.ctime(file_path.stat().st_ctime)\r\n",
        "        print(\"Using cached version downloaded at\", created)\r\n",
        "    \r\n",
        "    return file_path"
      ],
      "execution_count": 2,
      "outputs": []
    },
    {
      "cell_type": "code",
      "metadata": {
        "colab": {
          "base_uri": "https://localhost:8080/"
        },
        "id": "-E_-jsPYphyk",
        "outputId": "90aad996-86ef-4461-b74b-0457d0e75ae4"
      },
      "source": [
        "data_url = 'https://www.ssa.gov/oact/babynames/state/namesbystate.zip'\r\n",
        "namesbystate_path = fetch_and_cache(data_url, 'namesbystate.zip')\r\n",
        "zf = zipfile.ZipFile(namesbystate_path, 'r')\r\n",
        "\r\n",
        "column_labels = ['State', 'Sex', 'Year', 'Name', 'Count']"
      ],
      "execution_count": 3,
      "outputs": [
        {
          "output_type": "stream",
          "text": [
            "Downloading... Done!\n"
          ],
          "name": "stdout"
        }
      ]
    },
    {
      "cell_type": "code",
      "metadata": {
        "id": "VDxfY4m4p4Wd"
      },
      "source": [
        "def load_dataframe_from_zip(zf, f):\r\n",
        "    with zf.open(f) as fh: \r\n",
        "        return pd.read_csv(fh, header=None, names=column_labels)\r\n",
        "\r\n",
        "states = [\r\n",
        "    load_dataframe_from_zip(zf, f)\r\n",
        "    for f in sorted(zf.filelist, key=lambda x:x.filename) \r\n",
        "    if f.filename.endswith('.TXT')\r\n",
        "]"
      ],
      "execution_count": 6,
      "outputs": []
    },
    {
      "cell_type": "code",
      "metadata": {
        "id": "AwXkK1b0qS70"
      },
      "source": [
        "baby_names = states[0]\r\n",
        "for state_df in states[1:]:\r\n",
        "    baby_names = pd.concat([baby_names, state_df])\r\n",
        "baby_names = baby_names.reset_index().iloc[:, 1:]\r\n",
        "ca = baby_names[baby_names['State'] == 'CA']"
      ],
      "execution_count": 8,
      "outputs": []
    },
    {
      "cell_type": "code",
      "metadata": {
        "colab": {
          "base_uri": "https://localhost:8080/",
          "height": 402
        },
        "id": "uPioZAl5qfxT",
        "outputId": "3593cf42-731a-4f92-df37-12e572f55442"
      },
      "source": [
        "ca"
      ],
      "execution_count": 9,
      "outputs": [
        {
          "output_type": "execute_result",
          "data": {
            "text/html": [
              "<div>\n",
              "<style scoped>\n",
              "    .dataframe tbody tr th:only-of-type {\n",
              "        vertical-align: middle;\n",
              "    }\n",
              "\n",
              "    .dataframe tbody tr th {\n",
              "        vertical-align: top;\n",
              "    }\n",
              "\n",
              "    .dataframe thead th {\n",
              "        text-align: right;\n",
              "    }\n",
              "</style>\n",
              "<table border=\"1\" class=\"dataframe\">\n",
              "  <thead>\n",
              "    <tr style=\"text-align: right;\">\n",
              "      <th></th>\n",
              "      <th>State</th>\n",
              "      <th>Sex</th>\n",
              "      <th>Year</th>\n",
              "      <th>Name</th>\n",
              "      <th>Count</th>\n",
              "    </tr>\n",
              "  </thead>\n",
              "  <tbody>\n",
              "    <tr>\n",
              "      <th>384980</th>\n",
              "      <td>CA</td>\n",
              "      <td>F</td>\n",
              "      <td>1910</td>\n",
              "      <td>Mary</td>\n",
              "      <td>295</td>\n",
              "    </tr>\n",
              "    <tr>\n",
              "      <th>384981</th>\n",
              "      <td>CA</td>\n",
              "      <td>F</td>\n",
              "      <td>1910</td>\n",
              "      <td>Helen</td>\n",
              "      <td>239</td>\n",
              "    </tr>\n",
              "    <tr>\n",
              "      <th>384982</th>\n",
              "      <td>CA</td>\n",
              "      <td>F</td>\n",
              "      <td>1910</td>\n",
              "      <td>Dorothy</td>\n",
              "      <td>220</td>\n",
              "    </tr>\n",
              "    <tr>\n",
              "      <th>384983</th>\n",
              "      <td>CA</td>\n",
              "      <td>F</td>\n",
              "      <td>1910</td>\n",
              "      <td>Margaret</td>\n",
              "      <td>163</td>\n",
              "    </tr>\n",
              "    <tr>\n",
              "      <th>384984</th>\n",
              "      <td>CA</td>\n",
              "      <td>F</td>\n",
              "      <td>1910</td>\n",
              "      <td>Frances</td>\n",
              "      <td>134</td>\n",
              "    </tr>\n",
              "    <tr>\n",
              "      <th>...</th>\n",
              "      <td>...</td>\n",
              "      <td>...</td>\n",
              "      <td>...</td>\n",
              "      <td>...</td>\n",
              "      <td>...</td>\n",
              "    </tr>\n",
              "    <tr>\n",
              "      <th>772756</th>\n",
              "      <td>CA</td>\n",
              "      <td>M</td>\n",
              "      <td>2019</td>\n",
              "      <td>Zayvion</td>\n",
              "      <td>5</td>\n",
              "    </tr>\n",
              "    <tr>\n",
              "      <th>772757</th>\n",
              "      <td>CA</td>\n",
              "      <td>M</td>\n",
              "      <td>2019</td>\n",
              "      <td>Zeek</td>\n",
              "      <td>5</td>\n",
              "    </tr>\n",
              "    <tr>\n",
              "      <th>772758</th>\n",
              "      <td>CA</td>\n",
              "      <td>M</td>\n",
              "      <td>2019</td>\n",
              "      <td>Zhaire</td>\n",
              "      <td>5</td>\n",
              "    </tr>\n",
              "    <tr>\n",
              "      <th>772759</th>\n",
              "      <td>CA</td>\n",
              "      <td>M</td>\n",
              "      <td>2019</td>\n",
              "      <td>Zian</td>\n",
              "      <td>5</td>\n",
              "    </tr>\n",
              "    <tr>\n",
              "      <th>772760</th>\n",
              "      <td>CA</td>\n",
              "      <td>M</td>\n",
              "      <td>2019</td>\n",
              "      <td>Ziyad</td>\n",
              "      <td>5</td>\n",
              "    </tr>\n",
              "  </tbody>\n",
              "</table>\n",
              "<p>387781 rows × 5 columns</p>\n",
              "</div>"
            ],
            "text/plain": [
              "       State Sex  Year      Name  Count\n",
              "384980    CA   F  1910      Mary    295\n",
              "384981    CA   F  1910     Helen    239\n",
              "384982    CA   F  1910   Dorothy    220\n",
              "384983    CA   F  1910  Margaret    163\n",
              "384984    CA   F  1910   Frances    134\n",
              "...      ...  ..   ...       ...    ...\n",
              "772756    CA   M  2019   Zayvion      5\n",
              "772757    CA   M  2019      Zeek      5\n",
              "772758    CA   M  2019    Zhaire      5\n",
              "772759    CA   M  2019      Zian      5\n",
              "772760    CA   M  2019     Ziyad      5\n",
              "\n",
              "[387781 rows x 5 columns]"
            ]
          },
          "metadata": {
            "tags": []
          },
          "execution_count": 9
        }
      ]
    },
    {
      "cell_type": "code",
      "metadata": {
        "colab": {
          "base_uri": "https://localhost:8080/"
        },
        "id": "mmGS_i51qi7L",
        "outputId": "97e9491d-47ad-4b76-f9a4-fe94dedef611"
      },
      "source": [
        "print(ca.shape,'is the shape of table')\r\n",
        "print(ca.size,'is the total elements of table')"
      ],
      "execution_count": 15,
      "outputs": [
        {
          "output_type": "stream",
          "text": [
            "(387781, 5) is the shape of table\n",
            "1938905 is the total elements of table\n"
          ],
          "name": "stdout"
        }
      ]
    },
    {
      "cell_type": "code",
      "metadata": {
        "colab": {
          "base_uri": "https://localhost:8080/"
        },
        "id": "Th6urxSXrxUc",
        "outputId": "23957ee7-c5d0-48e9-df19-8d7a7a03ec92"
      },
      "source": [
        "num_of_names_per_year = ca[\"Year\"].value_counts()\r\n",
        "num_of_names_per_year.sort_index"
      ],
      "execution_count": 18,
      "outputs": [
        {
          "output_type": "execute_result",
          "data": {
            "text/plain": [
              "<bound method Series.sort_index of 2007    7250\n",
              "2008    7158\n",
              "2009    7121\n",
              "2006    7075\n",
              "2010    7010\n",
              "        ... \n",
              "1914     710\n",
              "1913     613\n",
              "1912     558\n",
              "1911     393\n",
              "1910     363\n",
              "Name: Year, Length: 110, dtype: int64>"
            ]
          },
          "metadata": {
            "tags": []
          },
          "execution_count": 18
        }
      ]
    }
  ]
}